{
 "cells": [
  {
   "cell_type": "code",
   "execution_count": 4,
   "metadata": {
    "collapsed": false
   },
   "outputs": [
    {
     "name": "stderr",
     "output_type": "stream",
     "text": [
      "/home/matyi/miniconda3/lib/python3.5/site-packages/matplotlib/__init__.py:1350: UserWarning:  This call to matplotlib.use() has no effect\n",
      "because the backend has already been chosen;\n",
      "matplotlib.use() must be called *before* pylab, matplotlib.pyplot,\n",
      "or matplotlib.backends is imported for the first time.\n",
      "\n",
      "  warnings.warn(_use_error_msg)\n"
     ]
    }
   ],
   "source": [
    "import time\n",
    "\n",
    "import numpy as np\n",
    "import matplotlib.pyplot as plt\n",
    "import matplotlib\n",
    "import matplotlib as mpl\n",
    "matplotlib.use(\"Agg\")\n",
    "import matplotlib.animation as animation\n",
    "\n",
    "\n",
    "###Clear this laterr..."
   ]
  },
  {
   "cell_type": "code",
   "execution_count": 5,
   "metadata": {
    "collapsed": false
   },
   "outputs": [],
   "source": [
    "class petri():\n",
    "    \"\"\"make a function instead??\"\"\"\n",
    "    def __init__(self, sector_width=10, sectorNr=5, height = 20):\n",
    "        #row = np.array(np.logspace(0, concentration, num=width))\n",
    "        \n",
    "        #np.insert(row,0,0)\n",
    "        edges = np.zeros(sector_width)\n",
    "        #print (edges)\n",
    "        for i in range(sectorNr):\n",
    "            #print (i)\n",
    "            edges  = np.append(edges, np.ones(sector_width)*10**i, 0)\n",
    "        self.concentrationMap = np.tile(edges, (height,1))\n",
    "        #print (edges)\n",
    "    def printmap(self):\n",
    "\n",
    "        print (self.concentrationMap)\n",
    "        print (self.concentrationMap.shape)"
   ]
  },
  {
   "cell_type": "code",
   "execution_count": 6,
   "metadata": {
    "collapsed": false
   },
   "outputs": [],
   "source": [
    "class bacteria():\n",
    "    \n",
    "    def __init__(self,  petriDish, parent_strength=0.2,):\n",
    "        \n",
    "        ##Base attributes\n",
    "        self.dish=petriDish\n",
    "        self.shape= self.dish.concentrationMap.shape\n",
    "        self.ageMap = np.zeros(self.shape)\n",
    "        self.bacteriaMap = np.zeros(self.shape)\n",
    "        \n",
    "        self.bacteriaMap[:,0] = parent_strength\n",
    "        \n",
    "        \n",
    "        ##Attributes for evolving\n",
    "        self.mu=1\n",
    "        self.sigma=0.08\n",
    "        self.generation=0\n",
    "        \n",
    "        \n",
    "        ##Attributes for pretty plotting\n",
    "        self.norm = mpl.colors.LogNorm()\n",
    "        self.colormap='Blues'\n",
    "        \n",
    "        ##Attributes for video making\n",
    "        self.video=[]\n",
    "        self.fig=plt.figure()\n",
    "        self.ax = self.fig.add_subplot(1, 1, 1)\n",
    "        Writer = animation.writers['ffmpeg']\n",
    "        self.writer = Writer(fps=20, metadata=dict(artist='MatyasCzeman'), bitrate=3600)\n",
    "        \n",
    "\n",
    "        \n",
    "    def showBacMap(self, cmap='Blues'):      \n",
    "\n",
    "        self.colormap = plt.get_cmap(cmap)\n",
    "        plt.pcolormesh(self.bacteriaMap, cmap=self.colormap, norm=self.norm)\n",
    "        #plt.savefig('images/foo%d.png' %self.generation, bbox_inches='tight')\n",
    "        \n",
    "\n",
    "        \n",
    "    def spread (self):\n",
    "        \n",
    "        newMap = np.empty_like (self.bacteriaMap)\n",
    "        newMap[:] = self.bacteriaMap\n",
    "        for (x,y), element in np.ndenumerate(self.bacteriaMap):\n",
    "            #print (x,y, element)\n",
    "            if np.random.rand() > 0.55 and self.bacteriaMap[x,y] == 0 : #and self.bacteriaMap[x,y] > self.dish.concentrationMap[x,y]:\n",
    "            # if square is not empty and resistance > concentration:\n",
    "                try: \n",
    "                    if self.bacteriaMap[x-1,y] > self.dish.concentrationMap[x,y]:\n",
    "                        newMap[x,y] = self.bacteriaMap[x-1,y]\n",
    "                except: pass\n",
    "                try: \n",
    "                    if self.bacteriaMap[x+1,y] > self.dish.concentrationMap[x,y]:\n",
    "                        newMap[x,y] = self.bacteriaMap[x+1,y]\n",
    "                except: pass\n",
    "                try: \n",
    "                    if self.bacteriaMap[x,y+1] > self.dish.concentrationMap[x,y]:\n",
    "                        pass\n",
    "                        newMap[x,y] = self.bacteriaMap[x,y+1]\n",
    "                except: pass\n",
    "                try: \n",
    "                    if self.bacteriaMap[x,y-1] > self.dish.concentrationMap[x,y]:\n",
    "                        newMap[x,y] = self.bacteriaMap[x,y-1]\n",
    "                except: pass\n",
    "                # I use try to eliminate index out of range errors at the edges\n",
    "                \n",
    "        self.bacteriaMap = newMap \n",
    "        self.checkStats()\n",
    "        \n",
    "        ##Save current status for saving it as a video later\n",
    "        self.video.append((self.ax.pcolormesh(self.bacteriaMap,\n",
    "                                         cmap=self.colormap, norm=self.norm),))\n",
    "                \n",
    "    def checkStats(self):\n",
    "        \"\"\"Counts new values for visualizaton after every spread() step\"\"\"\n",
    "        newMap = np.empty_like (self.bacteriaMap)\n",
    "        newMap[:] = self.bacteriaMap\n",
    "        newMap[np.where(newMap == 0)] = np.nan\n",
    "             \n",
    "        maxval=np.nanmax(newMap)\n",
    "        minval=np.nanmin(newMap)\n",
    "        self.norm = mpl.colors.LogNorm(vmax=maxval, vmin=minval)\n",
    "        self.mean = np.nanmean(newMap)\n",
    "\n",
    "    def evolve(self):\n",
    "        \n",
    "        # mean and standard deviation\n",
    "        mutationMap = np.random.normal(self.mu, self.sigma, self.shape)\n",
    "        self.bacteriaMap = self.bacteriaMap * mutationMap\n",
    "        self.generation+=1\n",
    "        \n",
    "    def age(self):\n",
    "        \n",
    "        newMap  = np.empty_like (self.ageMap)\n",
    "        newMap[:] = self.ageMap\n",
    "        for (x,y), element in np.ndenumerate(self.ageMap):\n",
    "            if self.ageMap[x,y] < 100 and self.ageMap[x,y] != 0:\n",
    "                self.ageMap[x,y] += 1\n",
    "\n",
    "    def onlineSpreading(self, steps=100):\n",
    "        \n",
    "        figOnline,ax = plt.subplots()\n",
    "        for f in range(steps):\n",
    "            virus.evolve()\n",
    "            ax.pcolormesh(virus.bacteriaMap, cmap=self.colormap, norm=self.norm)\n",
    "            figOnline.canvas.draw()\n",
    "            time.sleep(0.3)\n",
    "            \n",
    "    def saveVideo(self):\n",
    "\n",
    "        dpi = 80\n",
    "        width = 16\n",
    "        height = 9 ## res = dpi*width*height\n",
    "        self.fig.set_size_inches(width, height, True)\n",
    "\n",
    "        im_ani = animation.ArtistAnimation(self.fig, self.video, interval=500, repeat_delay=3000,\n",
    "                                   blit=True)\n",
    "        im_ani.save('simul%d.mp4' %self.generation, writer=self.writer, dpi=dpi)"
   ]
  },
  {
   "cell_type": "code",
   "execution_count": 7,
   "metadata": {
    "collapsed": false
   },
   "outputs": [],
   "source": [
    "petriD = petri(20,4,60)\n",
    "eColi=bacteria(petriD, 0.2)"
   ]
  },
  {
   "cell_type": "code",
   "execution_count": 8,
   "metadata": {
    "collapsed": false
   },
   "outputs": [
    {
     "name": "stdout",
     "output_type": "stream",
     "text": [
      "Finished\n"
     ]
    }
   ],
   "source": [
    "# while True:\n",
    "simulStep=200\n",
    "\n",
    "for i in range(simulStep):\n",
    "   \n",
    "    eColi.evolve()\n",
    "    eColi.spread()\n",
    "\n",
    "print (\"Finished\")\n"
   ]
  },
  {
   "cell_type": "code",
   "execution_count": 9,
   "metadata": {
    "collapsed": false
   },
   "outputs": [
    {
     "data": {
      "image/png": "[encoded data removed]",
      "text/plain": [
       "<matplotlib.figure.Figure at 0x7fc3cd1222b0>"
      ]
     },
     "metadata": {},
     "output_type": "display_data"
    }
   ],
   "source": [
    "%matplotlib inline\n",
    "eColi.showBacMap()"
   ]
  },
  {
   "cell_type": "code",
   "execution_count": 10,
   "metadata": {
    "collapsed": false
   },
   "outputs": [],
   "source": [
    "eColi.saveVideo()\n"
   ]
  },
  {
   "cell_type": "code",
   "execution_count": 24,
   "metadata": {
    "collapsed": false
   },
   "outputs": [
    {
     "data": {
      "text/plain": [
       "<matplotlib.collections.QuadMesh at 0x7f037d7a7518>"
      ]
     },
     "execution_count": 24,
     "metadata": {},
     "output_type": "execute_result"
    },
    {
     "data": {
      "image/png": "[encoded data removed]",
      "text/plain": [
       "<matplotlib.figure.Figure at 0x7f037db23128>"
      ]
     },
     "metadata": {},
     "output_type": "display_data"
    }
   ],
   "source": [
    "eColi.bacteriaMap[0,0]=2000\n",
    "eColi.bacteriaMap[0,10]=2000\n",
    "plt.pcolormesh(eColi.bacteriaMap)"
   ]
  },
  {
   "cell_type": "code",
   "execution_count": null,
   "metadata": {
    "collapsed": false
   },
   "outputs": [],
   "source": [
    "%matplotlib notebook\n",
    "eColi.onlineSpreading(steps=100)\n"
   ]
  },
  {
   "cell_type": "code",
   "execution_count": null,
   "metadata": {
    "collapsed": true
   },
   "outputs": [],
   "source": []
  }
 ],
 "metadata": {
  "anaconda-cloud": {},
  "kernelspec": {
   "display_name": "Python [conda root]",
   "language": "python",
   "name": "conda-root-py"
  },
  "language_info": {
   "codemirror_mode": {
    "name": "ipython",
    "version": 3
   },
   "file_extension": ".py",
   "mimetype": "text/x-python",
   "name": "python",
   "nbconvert_exporter": "python",
   "pygments_lexer": "ipython3",
   "version": "3.5.2"
  }
 },
 "nbformat": 4,
 "nbformat_minor": 1
}
